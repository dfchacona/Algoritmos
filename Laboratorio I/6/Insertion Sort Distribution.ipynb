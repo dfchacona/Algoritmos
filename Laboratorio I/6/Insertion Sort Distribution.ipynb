{
 "cells": [
  {
   "cell_type": "code",
   "execution_count": 5,
   "metadata": {},
   "outputs": [
    {
     "name": "stdout",
     "output_type": "stream",
     "text": [
      "[(0, 1, 2, 3), (0, 1, 3, 2), (0, 2, 1, 3), (0, 2, 3, 1), (0, 3, 1, 2), (0, 3, 2, 1), (1, 0, 2, 3), (1, 0, 3, 2), (1, 2, 0, 3), (1, 2, 3, 0), (1, 3, 0, 2), (1, 3, 2, 0), (2, 0, 1, 3), (2, 0, 3, 1), (2, 1, 0, 3), (2, 1, 3, 0), (2, 3, 0, 1), (2, 3, 1, 0), (3, 0, 1, 2), (3, 0, 2, 1), (3, 1, 0, 2), (3, 1, 2, 0), (3, 2, 0, 1), (3, 2, 1, 0)]\n",
      "11.5 3.0 4.916666666666667\n"
     ]
    },
    {
     "data": {
      "text/plain": [
       "<Container object of 24 artists>"
      ]
     },
     "execution_count": 5,
     "metadata": {},
     "output_type": "execute_result"
    },
    {
     "data": {
      "image/png": "[encoded data removed]",
      "text/plain": [
       "<matplotlib.figure.Figure at 0x10ee01c18>"
      ]
     },
     "metadata": {},
     "output_type": "display_data"
    }
   ],
   "source": [
    "import itertools\n",
    "import numpy as np\n",
    "import matplotlib.pyplot as plt\n",
    "num=4\n",
    "my_list=[]\n",
    "c=0\n",
    "s=0\n",
    "i=0\n",
    "comparisons=[]\n",
    "swaps=[]\n",
    "instructions=[]\n",
    "for i in range(num):\n",
    "    my_list.append(i)\n",
    "permutations=(list(itertools.permutations(my_list)))\n",
    "print (permutations)\n",
    "for to_sort in permutations:\n",
    "    c=0\n",
    "    s=0\n",
    "    i=0\n",
    "    arr=list(to_sort)\n",
    "    for i in range(num):\n",
    "        temp = arr[i]\n",
    "        j = i\n",
    "\n",
    "        i += 3\n",
    "        while (j > 0 ):\n",
    "            c += 1\n",
    "            if temp < arr[j - 1]:\n",
    "\n",
    "                arr[j] = arr[j - 1]\n",
    "                j = j - 1\n",
    "                s += 1\n",
    "                i+=3\n",
    "            else:\n",
    "                break\n",
    "        i+=1\n",
    "        arr[j] = temp\n",
    "    instructions.append(i)\n",
    "    swaps.append(s)\n",
    "    comparisons.append(c)\n",
    "    to_sort=tuple(arr)\n",
    "\n",
    "ins_np=np.array(instructions)\n",
    "swa_np=np.array(swaps)\n",
    "comp_np=np.array(comparisons)\n",
    "\n",
    "print (ins_np.mean(),swa_np.mean(), comp_np.mean())\n",
    "\n",
    "\n",
    "plt.bar(np.arange(len(swaps)), swaps)\n"
   ]
  },
  {
   "cell_type": "code",
   "execution_count": null,
   "metadata": {},
   "outputs": [],
   "source": []
  }
 ],
 "metadata": {
  "kernelspec": {
   "display_name": "Python 3",
   "language": "python",
   "name": "python3"
  }
 },
 "nbformat": 4,
 "nbformat_minor": 2
}
